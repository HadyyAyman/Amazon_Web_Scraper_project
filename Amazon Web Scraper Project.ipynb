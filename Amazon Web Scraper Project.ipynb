{
 "cells": [
  {
   "cell_type": "code",
   "execution_count": 82,
   "id": "34249793",
   "metadata": {},
   "outputs": [],
   "source": [
    "from bs4 import BeautifulSoup as bs\n",
    "import requests \n",
    "import time\n",
    "import datetime \n",
    "import smtplib"
   ]
  },
  {
   "cell_type": "code",
   "execution_count": 90,
   "id": "25d424d4",
   "metadata": {},
   "outputs": [
    {
     "name": "stdout",
     "output_type": "stream",
     "text": [
      "\n",
      "            Samsung 32-Inch Odyssey G5 Gaming Monitor with 1000R Curved Screen, VGA\n",
      "           \n",
      "\n",
      "                         EGP8,155.00\n",
      "                        \n",
      "\n",
      "            -23%\n",
      "           \n",
      "\n",
      "                EGP10,620.00\n",
      "               \n"
     ]
    }
   ],
   "source": [
    "URL = 'https://www.amazon.eg/-/en/Samsung-32-Inch-Odyssey-Gaming-Monitor/dp/B0BW642VNH?ref_=Oct_d_orecs_d_21832909031_0&pd_rd_w=BzAoc&content-id=amzn1.sym.fd2880bf-99c3-4dff-8cb3-a8d1fbed8de9&pf_rd_p=fd2880bf-99c3-4dff-8cb3-a8d1fbed8de9&pf_rd_r=4JB8P53AEK1JQY3M9GAK&pd_rd_wg=sa55N&pd_rd_r=3d7f186e-c963-4c0b-98a2-cf16f6a12569&pd_rd_i=B0BW642VNH'\n",
    "\n",
    "headers = {\"User-Agent\": \"Mozilla/5.0 (Windows NT 10.0; Win64; x64) AppleWebKit/537.36 (KHTML, like Gecko) Chrome/116.0.0.0 Safari/537.36 Edg/116.0.1938.62\"}\n",
    "\n",
    "page = requests.get(URL, headers=headers)\n",
    "\n",
    "soup1 = bs(page.content, 'html.parser')\n",
    "\n",
    "soup2 = bs(soup1.prettify(),'html.parser')\n",
    "\n",
    "title = soup2.find(id='productTitle').get_text()\n",
    "\n",
    "original_price = soup2.find_all('span', class_='a-offscreen')[7].get_text()\n",
    "\n",
    "price = soup2.find('span', class_='a-offscreen').get_text()\n",
    "\n",
    "discount = soup2.find('span', class_ = 'a-size-large a-color-price savingPriceOverride aok-align-center reinventPriceSavingsPercentageMargin savingsPercentage').get_text()\n",
    "\n",
    "\n",
    "\n",
    "print(title)\n",
    "print(price)\n",
    "print(discount)\n",
    "print(original_price)"
   ]
  },
  {
   "cell_type": "code",
   "execution_count": 91,
   "id": "0d98ee0a",
   "metadata": {
    "scrolled": true
   },
   "outputs": [
    {
     "name": "stdout",
     "output_type": "stream",
     "text": [
      "Samsung 32-Inch Odyssey G5 Gaming Monitor with 1000R Curved Screen, VGA\n",
      "8,155.00\n",
      "-23%\n",
      "10,620.00\n"
     ]
    }
   ],
   "source": [
    "title = title.strip()\n",
    "price = price.strip()[3:]\n",
    "discount = discount.strip()\n",
    "original_price = original_price.strip()[3:]\n",
    "\n",
    "print(title)\n",
    "print(price)\n",
    "print(discount)\n",
    "print(original_price)"
   ]
  },
  {
   "cell_type": "code",
   "execution_count": 95,
   "id": "78c79bc1",
   "metadata": {},
   "outputs": [
    {
     "name": "stdout",
     "output_type": "stream",
     "text": [
      "2023-09-01\n"
     ]
    }
   ],
   "source": [
    "import datetime\n",
    "\n",
    "today = datetime.date.today()\n",
    "\n",
    "print(today)"
   ]
  },
  {
   "cell_type": "code",
   "execution_count": 97,
   "id": "ed5132d8",
   "metadata": {},
   "outputs": [],
   "source": [
    "import csv \n",
    "\n",
    "header = ['Title','Price','Discount','Original_Price','Date']\n",
    "data = [title, price, discount, original_price, today]\n",
    "\n",
    "with open('AmazonWebScraperProject.csv','w', newline = '', encoding='utf8') as f:\n",
    "    writer = csv.writer(f)\n",
    "    writer.writerow(header)\n",
    "    writer.writerow(data)"
   ]
  },
  {
   "cell_type": "code",
   "execution_count": 103,
   "id": "88bf6701",
   "metadata": {
    "scrolled": true
   },
   "outputs": [
    {
     "data": {
      "text/html": [
       "<div>\n",
       "<style scoped>\n",
       "    .dataframe tbody tr th:only-of-type {\n",
       "        vertical-align: middle;\n",
       "    }\n",
       "\n",
       "    .dataframe tbody tr th {\n",
       "        vertical-align: top;\n",
       "    }\n",
       "\n",
       "    .dataframe thead th {\n",
       "        text-align: right;\n",
       "    }\n",
       "</style>\n",
       "<table border=\"1\" class=\"dataframe\">\n",
       "  <thead>\n",
       "    <tr style=\"text-align: right;\">\n",
       "      <th></th>\n",
       "      <th>Title</th>\n",
       "      <th>Price</th>\n",
       "      <th>Discount</th>\n",
       "      <th>Original_Price</th>\n",
       "      <th>Date</th>\n",
       "    </tr>\n",
       "  </thead>\n",
       "  <tbody>\n",
       "    <tr>\n",
       "      <th>0</th>\n",
       "      <td>Samsung 32-Inch Odyssey G5 Gaming Monitor with...</td>\n",
       "      <td>8,155.00</td>\n",
       "      <td>-23%</td>\n",
       "      <td>10,620.00</td>\n",
       "      <td>2023-09-01</td>\n",
       "    </tr>\n",
       "    <tr>\n",
       "      <th>1</th>\n",
       "      <td>Samsung 32-Inch Odyssey G5 Gaming Monitor with...</td>\n",
       "      <td>8,155.00</td>\n",
       "      <td>-23%</td>\n",
       "      <td>10,620.00</td>\n",
       "      <td>2023-09-01</td>\n",
       "    </tr>\n",
       "    <tr>\n",
       "      <th>2</th>\n",
       "      <td>Samsung 32-Inch Odyssey G5 Gaming Monitor with...</td>\n",
       "      <td>8,155.00</td>\n",
       "      <td>-23%</td>\n",
       "      <td>10,620.00</td>\n",
       "      <td>2023-09-01</td>\n",
       "    </tr>\n",
       "  </tbody>\n",
       "</table>\n",
       "</div>"
      ],
      "text/plain": [
       "                                               Title     Price Discount  \\\n",
       "0  Samsung 32-Inch Odyssey G5 Gaming Monitor with...  8,155.00     -23%   \n",
       "1  Samsung 32-Inch Odyssey G5 Gaming Monitor with...  8,155.00     -23%   \n",
       "2  Samsung 32-Inch Odyssey G5 Gaming Monitor with...  8,155.00     -23%   \n",
       "\n",
       "  Original_Price        Date  \n",
       "0      10,620.00  2023-09-01  \n",
       "1      10,620.00  2023-09-01  \n",
       "2      10,620.00  2023-09-01  "
      ]
     },
     "execution_count": 103,
     "metadata": {},
     "output_type": "execute_result"
    }
   ],
   "source": [
    "import pandas as pd\n",
    "\n",
    "df = pd.read_csv(r'C:\\Users\\DELL\\AmazonWebScraperProject.csv')\n",
    "df"
   ]
  },
  {
   "cell_type": "code",
   "execution_count": 102,
   "id": "7f58ed21",
   "metadata": {},
   "outputs": [],
   "source": [
    "with open('AmazonWebScraperProject.csv','a+', newline = '', encoding='utf8') as f:\n",
    "    writer = csv.writer(f)\n",
    "    writer.writerow(data)"
   ]
  },
  {
   "cell_type": "code",
   "execution_count": 107,
   "id": "d4e0eee0",
   "metadata": {},
   "outputs": [],
   "source": [
    "def check_price():\n",
    "    URL = 'https://www.amazon.eg/-/en/Samsung-32-Inch-Odyssey-Gaming-Monitor/dp/B0BW642VNH?ref_=Oct_d_orecs_d_21832909031_0&pd_rd_w=BzAoc&content-id=amzn1.sym.fd2880bf-99c3-4dff-8cb3-a8d1fbed8de9&pf_rd_p=fd2880bf-99c3-4dff-8cb3-a8d1fbed8de9&pf_rd_r=4JB8P53AEK1JQY3M9GAK&pd_rd_wg=sa55N&pd_rd_r=3d7f186e-c963-4c0b-98a2-cf16f6a12569&pd_rd_i=B0BW642VNH'\n",
    "\n",
    "    headers = {\"User-Agent\": \"Mozilla/5.0 (Windows NT 10.0; Win64; x64) AppleWebKit/537.36 (KHTML, like Gecko) Chrome/116.0.0.0 Safari/537.36 Edg/116.0.1938.62\"}\n",
    "\n",
    "    page = requests.get(URL, headers=headers)\n",
    "\n",
    "    soup1 = bs(page.content, 'html.parser')\n",
    "\n",
    "    soup2 = bs(soup1.prettify(),'html.parser')\n",
    "\n",
    "    title = soup2.find(id='productTitle').get_text()\n",
    "\n",
    "    original_price = soup2.find_all('span', class_='a-offscreen')[7].get_text()\n",
    "\n",
    "    price = soup2.find('span', class_='a-offscreen').get_text()\n",
    "\n",
    "    discount = soup2.find('span', class_ = 'a-size-large a-color-price savingPriceOverride aok-align-center reinventPriceSavingsPercentageMargin savingsPercentage').get_text()\n",
    "    \n",
    "    title = title.strip()\n",
    "    price = price.strip()[3:]\n",
    "    discount = discount.strip()\n",
    "    original_price = original_price.strip()[3:]\n",
    "    \n",
    "    import datetime\n",
    "\n",
    "    today = datetime.date.today()\n",
    "    \n",
    "    import csv \n",
    "\n",
    "    header = ['Title','Price','Discount','Original_Price','Date']\n",
    "    data = [title, price, discount, original_price, today]\n",
    "    \n",
    "    with open('AmazonWebScraperProject.csv','a+', newline = '', encoding='utf8') as f:\n",
    "        writer = csv.writer(f)\n",
    "        writer.writerow(data)"
   ]
  },
  {
   "cell_type": "code",
   "execution_count": null,
   "id": "20344813",
   "metadata": {},
   "outputs": [],
   "source": [
    "while(True):\n",
    "    check_price()\n",
    "    time.sleep(86400)"
   ]
  },
  {
   "cell_type": "code",
   "execution_count": 109,
   "id": "07df5cdb",
   "metadata": {
    "collapsed": true
   },
   "outputs": [
    {
     "data": {
      "text/html": [
       "<div>\n",
       "<style scoped>\n",
       "    .dataframe tbody tr th:only-of-type {\n",
       "        vertical-align: middle;\n",
       "    }\n",
       "\n",
       "    .dataframe tbody tr th {\n",
       "        vertical-align: top;\n",
       "    }\n",
       "\n",
       "    .dataframe thead th {\n",
       "        text-align: right;\n",
       "    }\n",
       "</style>\n",
       "<table border=\"1\" class=\"dataframe\">\n",
       "  <thead>\n",
       "    <tr style=\"text-align: right;\">\n",
       "      <th></th>\n",
       "      <th>Title</th>\n",
       "      <th>Price</th>\n",
       "      <th>Discount</th>\n",
       "      <th>Original_Price</th>\n",
       "      <th>Date</th>\n",
       "    </tr>\n",
       "  </thead>\n",
       "  <tbody>\n",
       "    <tr>\n",
       "      <th>0</th>\n",
       "      <td>Samsung 32-Inch Odyssey G5 Gaming Monitor with...</td>\n",
       "      <td>8,155.00</td>\n",
       "      <td>-23%</td>\n",
       "      <td>10,620.00</td>\n",
       "      <td>2023-09-01</td>\n",
       "    </tr>\n",
       "    <tr>\n",
       "      <th>1</th>\n",
       "      <td>Samsung 32-Inch Odyssey G5 Gaming Monitor with...</td>\n",
       "      <td>8,155.00</td>\n",
       "      <td>-23%</td>\n",
       "      <td>10,620.00</td>\n",
       "      <td>2023-09-01</td>\n",
       "    </tr>\n",
       "    <tr>\n",
       "      <th>2</th>\n",
       "      <td>Samsung 32-Inch Odyssey G5 Gaming Monitor with...</td>\n",
       "      <td>8,155.00</td>\n",
       "      <td>-23%</td>\n",
       "      <td>10,620.00</td>\n",
       "      <td>2023-09-01</td>\n",
       "    </tr>\n",
       "    <tr>\n",
       "      <th>3</th>\n",
       "      <td>Samsung 32-Inch Odyssey G5 Gaming Monitor with...</td>\n",
       "      <td>8,155.00</td>\n",
       "      <td>-23%</td>\n",
       "      <td>10,620.00</td>\n",
       "      <td>2023-09-01</td>\n",
       "    </tr>\n",
       "    <tr>\n",
       "      <th>4</th>\n",
       "      <td>Samsung 32-Inch Odyssey G5 Gaming Monitor with...</td>\n",
       "      <td>8,155.00</td>\n",
       "      <td>-23%</td>\n",
       "      <td>10,620.00</td>\n",
       "      <td>2023-09-01</td>\n",
       "    </tr>\n",
       "    <tr>\n",
       "      <th>5</th>\n",
       "      <td>Samsung 32-Inch Odyssey G5 Gaming Monitor with...</td>\n",
       "      <td>8,155.00</td>\n",
       "      <td>-23%</td>\n",
       "      <td>10,620.00</td>\n",
       "      <td>2023-09-01</td>\n",
       "    </tr>\n",
       "  </tbody>\n",
       "</table>\n",
       "</div>"
      ],
      "text/plain": [
       "                                               Title     Price Discount  \\\n",
       "0  Samsung 32-Inch Odyssey G5 Gaming Monitor with...  8,155.00     -23%   \n",
       "1  Samsung 32-Inch Odyssey G5 Gaming Monitor with...  8,155.00     -23%   \n",
       "2  Samsung 32-Inch Odyssey G5 Gaming Monitor with...  8,155.00     -23%   \n",
       "3  Samsung 32-Inch Odyssey G5 Gaming Monitor with...  8,155.00     -23%   \n",
       "4  Samsung 32-Inch Odyssey G5 Gaming Monitor with...  8,155.00     -23%   \n",
       "5  Samsung 32-Inch Odyssey G5 Gaming Monitor with...  8,155.00     -23%   \n",
       "\n",
       "  Original_Price        Date  \n",
       "0      10,620.00  2023-09-01  \n",
       "1      10,620.00  2023-09-01  \n",
       "2      10,620.00  2023-09-01  \n",
       "3      10,620.00  2023-09-01  \n",
       "4      10,620.00  2023-09-01  \n",
       "5      10,620.00  2023-09-01  "
      ]
     },
     "execution_count": 109,
     "metadata": {},
     "output_type": "execute_result"
    }
   ],
   "source": [
    "import pandas as pd\n",
    "\n",
    "df = pd.read_csv(r'C:\\Users\\DELL\\AmazonWebScraperProject.csv')\n",
    "df"
   ]
  },
  {
   "cell_type": "code",
   "execution_count": null,
   "id": "538d0c08",
   "metadata": {},
   "outputs": [],
   "source": [
    "def send_mail():\n",
    "    server = smtplib.SMTP_SSL('smtp.gmail.com',465)\n",
    "    server.ehlo()\n",
    "    #server.starttls()\n",
    "    server.ehlo()\n",
    "    server.login('hadyayman955@gmail.com','HadyAyman29/3/2002')\n",
    "    \n",
    "    subject = \"The Monitor you want is below 6,000! Now is your chance to buy!\"\n",
    "    body = \"hady, This is the moment we have been waiting for. Now is your chance to pick up the monitor of your dreams. Don't mess it up! Link here: https://www.amazon.eg/-/en/Samsung-32-Inch-Odyssey-Gaming-Monitor/dp/B0BW642VNH?ref_=Oct_d_orecs_d_21832909031_0&pd_rd_w=BzAoc&content-id=amzn1.sym.fd2880bf-99c3-4dff-8cb3-a8d1fbed8de9&pf_rd_p=fd2880bf-99c3-4dff-8cb3-a8d1fbed8de9&pf_rd_r=4JB8P53AEK1JQY3M9GAK&pd_rd_wg=sa55N&pd_rd_r=3d7f186e-c963-4c0b-98a2-cf16f6a12569&pd_rd_i=B0BW642VNH'\n",
    "\"\n",
    "   \n",
    "    msg = f\"Subject: {subject}\\n\\n{body}\"\n",
    "    \n",
    "    server.sendmail(\n",
    "        'hadyayman955@gmail.com',\n",
    "        msg\n",
    "     \n",
    "    )"
   ]
  },
  {
   "cell_type": "code",
   "execution_count": null,
   "id": "df3c5706",
   "metadata": {},
   "outputs": [],
   "source": []
  },
  {
   "cell_type": "code",
   "execution_count": null,
   "id": "86736127",
   "metadata": {},
   "outputs": [],
   "source": []
  },
  {
   "cell_type": "code",
   "execution_count": null,
   "id": "67a49324",
   "metadata": {},
   "outputs": [],
   "source": []
  },
  {
   "cell_type": "code",
   "execution_count": null,
   "id": "3ef27c34",
   "metadata": {},
   "outputs": [],
   "source": []
  },
  {
   "cell_type": "code",
   "execution_count": null,
   "id": "2dffb093",
   "metadata": {},
   "outputs": [],
   "source": []
  },
  {
   "cell_type": "code",
   "execution_count": null,
   "id": "939d5b35",
   "metadata": {},
   "outputs": [],
   "source": []
  },
  {
   "cell_type": "code",
   "execution_count": null,
   "id": "66f9c164",
   "metadata": {},
   "outputs": [],
   "source": []
  },
  {
   "cell_type": "code",
   "execution_count": null,
   "id": "0ca2b4d4",
   "metadata": {},
   "outputs": [],
   "source": []
  },
  {
   "cell_type": "code",
   "execution_count": null,
   "id": "ce355e63",
   "metadata": {},
   "outputs": [],
   "source": []
  },
  {
   "cell_type": "code",
   "execution_count": null,
   "id": "ed2e22f9",
   "metadata": {},
   "outputs": [],
   "source": []
  },
  {
   "cell_type": "code",
   "execution_count": null,
   "id": "56720026",
   "metadata": {},
   "outputs": [],
   "source": []
  },
  {
   "cell_type": "code",
   "execution_count": null,
   "id": "b470d128",
   "metadata": {},
   "outputs": [],
   "source": []
  },
  {
   "cell_type": "code",
   "execution_count": null,
   "id": "4942ced5",
   "metadata": {},
   "outputs": [],
   "source": []
  }
 ],
 "metadata": {
  "kernelspec": {
   "display_name": "Python 3 (ipykernel)",
   "language": "python",
   "name": "python3"
  },
  "language_info": {
   "codemirror_mode": {
    "name": "ipython",
    "version": 3
   },
   "file_extension": ".py",
   "mimetype": "text/x-python",
   "name": "python",
   "nbconvert_exporter": "python",
   "pygments_lexer": "ipython3",
   "version": "3.9.13"
  }
 },
 "nbformat": 4,
 "nbformat_minor": 5
}
